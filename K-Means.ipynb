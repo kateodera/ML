{
 "cells": [
  {
   "cell_type": "code",
   "execution_count": 7,
   "outputs": [
    {
     "data": {
      "text/plain": "<matplotlib.figure.Figure at 0x7f0e107de6a0>",
      "image/png": "[encoded data removed]"
     },
     "metadata": {
      "needs_background": "light"
     },
     "output_type": "display_data"
    }
   ],
   "source": [
    "import numpy as np\n",
    "from matplotlib import pyplot as plt\n",
    "\n",
    "# creating two test data \n",
    "X = np.random.randint(10,35,(25,2))\n",
    "Y = np.random.randint(55,70,(25,2)) \n",
    "Z = np.vstack((X,Y)) \n",
    "Z = Z.reshape((50,2)) \n",
    "\n",
    "# convert to np.float32 \n",
    "Z = np.float32(Z) \n",
    "  \n",
    "plt.xlabel('Test Data') \n",
    "plt.ylabel('Z samples') \n",
    "  \n",
    "plt.hist(Z,256,[0,256]) \n",
    "  "
   ],
   "metadata": {
    "collapsed": false,
    "pycharm": {
     "name": "#%%\n",
     "is_executing": false
    }
   }
  }
 ],
 "metadata": {
  "kernelspec": {
   "display_name": "Python 3",
   "language": "python",
   "name": "python3"
  },
  "language_info": {
   "codemirror_mode": {
    "name": "ipython",
    "version": 2
   },
   "file_extension": ".py",
   "mimetype": "text/x-python",
   "name": "python",
   "nbconvert_exporter": "python",
   "pygments_lexer": "ipython2",
   "version": "2.7.6"
  },
  "pycharm": {
   "stem_cell": {
    "cell_type": "raw",
    "source": [],
    "metadata": {
     "collapsed": false
    }
   }
  }
 },
 "nbformat": 4,
 "nbformat_minor": 0
}